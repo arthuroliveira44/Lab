{
 "metadata": {
  "name": ""
 },
 "nbformat": 3,
 "nbformat_minor": 0,
 "worksheets": [
  {
   "cells": [
    {
     "cell_type": "code",
     "collapsed": false,
     "input": [
      "import re\n",
      "import datetime\n",
      "from pyspark import SparkContext\n",
      "from pyspark.sql import Row\n",
      "\n",
      "sc = SparkContext('local', 'pyspark')"
     ],
     "language": "python",
     "metadata": {},
     "outputs": [],
     "prompt_number": 1
    },
    {
     "cell_type": "code",
     "collapsed": false,
     "input": [
      "''' identificar meses padr\u00e3o '''\n",
      "\n",
      "mes = {'Jul':7, 'Aug':8}\n",
      "\n",
      "''' separar o campo data por ano/mes/dia:hora:min:seg '''\n",
      "\n",
      "def Log_Time(s):\n",
      "    return datetime.datetime(int(s[7:11]),\n",
      "                             mes[s[3:6]],\n",
      "                             int(s[0:2]),\n",
      "                             int(s[12:14]),\n",
      "                             int(s[15:17]),\n",
      "                             int(s[18:20]))                          \n"
     ],
     "language": "python",
     "metadata": {},
     "outputs": [],
     "prompt_number": 2
    },
    {
     "cell_type": "code",
     "collapsed": false,
     "input": [
      "logtext= 'slip-0-14.shore.net - - [08/Aug/1995:23:38:42 -0400] \"GET /pub/winvn/readme.txt HTTP/1.0\" 404 -'"
     ],
     "language": "python",
     "metadata": {},
     "outputs": [],
     "prompt_number": 3
    },
    {
     "cell_type": "code",
     "collapsed": false,
     "input": [
      "print Log_Campo(logtext)"
     ],
     "language": "python",
     "metadata": {},
     "outputs": [
      {
       "output_type": "stream",
       "stream": "stdout",
       "text": [
        "(Row(codigo='404', datalog=datetime.datetime(1995, 8, 8, 23, 38, 42), desc1='-', desc2='-', host='slip-0-14.shore.net', pac=0L, protocolo='HTTP/1.0', requisicao='GET', retorno='/pub/winvn/readme.txt'), 1)\n"
       ]
      }
     ],
     "prompt_number": 6
    },
    {
     "cell_type": "code",
     "collapsed": false,
     "input": [
      "delimitador_campo = '^(\\S+) (\\S+) (\\S+) \\[([\\w:/]+\\s[+\\-]\\d{4})\\] \"(\\S+) (\\S+)\\s*(\\S*)\\s?\" (\\d{3}) (\\S+)'\n",
      "\n",
      "def Log_Campo(linhalog):\n",
      "    \n",
      "    campo = re.search(delimitador_campo, linhalog)\n",
      "    if campo is None:\n",
      "        return (linhalog,0)\n",
      "    tamanhopacote = campo.group(9)\n",
      "    if tamanhopacote == '-':\n",
      "        pacote = long(0)\n",
      "    else:\n",
      "        pacote = long(campo.group(9))\n",
      "    return(Row(\n",
      "               host = campo.group(1),\n",
      "               desc1 = campo.group(2),\n",
      "               desc2 = campo.group(3),\n",
      "               datalog = Log_Time(campo.group(4)),\n",
      "               requisicao = campo.group(5),\n",
      "               retorno = campo.group(6),\n",
      "               protocolo = campo.group(7),\n",
      "               codigo = campo.group(8),\n",
      "               pac = pacote),1)\n",
      "    \n"
     ],
     "language": "python",
     "metadata": {},
     "outputs": [],
     "prompt_number": 5
    },
    {
     "cell_type": "code",
     "collapsed": false,
     "input": [
      "import os\n",
      "import sys"
     ],
     "language": "python",
     "metadata": {},
     "outputs": [],
     "prompt_number": 7
    },
    {
     "cell_type": "code",
     "collapsed": false,
     "input": [
      "'''Os arquivos foram concatenados ''' \n",
      "LogFile = ('/home/hduser/lognasa.txt')"
     ],
     "language": "python",
     "metadata": {},
     "outputs": [],
     "prompt_number": 153
    },
    {
     "cell_type": "code",
     "collapsed": false,
     "input": [
      "'''Valida linhas no formato padrao '''\n",
      "def Log_Valido():\n",
      "    \n",
      "    logval = (sc.textFile(LogFile).map(Log_Campo).cache())\n",
      "    \n",
      "    logacesso = (logval.filter(lambda x: x[1]==1).map(lambda x: x[0]).cache())\n",
      "    \n",
      "    logerro = (logval.filter(lambda x: x[1]==0).map(lambda x: x[0]).cache())\n",
      "\n",
      "    return logval, logacesso, logerro\n",
      "logval, logacesso, logerro = Log_Valido()"
     ],
     "language": "python",
     "metadata": {},
     "outputs": [],
     "prompt_number": 154
    },
    {
     "cell_type": "code",
     "collapsed": false,
     "input": [
      "''' Coleta hosts unicos'''\n",
      "from operator import add\n",
      "hosts = logacesso.map(lambda hostx: (hostx.host,1))\n",
      "hostsunicos = hosts.reduceByKey(add)\n",
      "somaHostsunicos = hostsunicos.count()\n",
      "print somaHostsunicos"
     ],
     "language": "python",
     "metadata": {},
     "outputs": [
      {
       "output_type": "stream",
       "stream": "stdout",
       "text": [
        "137960\n"
       ]
      }
     ],
     "prompt_number": 155
    },
    {
     "cell_type": "code",
     "collapsed": false,
     "input": [
      "''' Total de erros 404'''\n",
      "URL404 = (logacesso\n",
      "             .map(lambda log: (log.codigo,))\n",
      "             .filter((lambda x: x[0] == '404'))\n",
      "             .cache()\n",
      "             )\n",
      "countURL = URL404.count()\n",
      "print countURL"
     ],
     "language": "python",
     "metadata": {},
     "outputs": [
      {
       "output_type": "stream",
       "stream": "stdout",
       "text": [
        "20804\n"
       ]
      }
     ],
     "prompt_number": 156
    },
    {
     "cell_type": "code",
     "collapsed": false,
     "input": [],
     "language": "python",
     "metadata": {},
     "outputs": [],
     "prompt_number": 152
    },
    {
     "cell_type": "code",
     "collapsed": false,
     "input": [],
     "language": "python",
     "metadata": {},
     "outputs": [
      {
       "output_type": "stream",
       "stream": "stdout",
       "text": [
        "[(u'/astronaut.*', 4), (u'/pub/winvn/readme.txt', 10), (u'/history/apollo/sa-1/sa-1-patch-small.gif', 15), (u'/pub/win3', 7)]\n"
       ]
      }
     ],
     "prompt_number": 111
    },
    {
     "cell_type": "code",
     "collapsed": false,
     "input": [
      "''' top 5 URL com erro 404'''\n",
      "totalerr404 = (logacesso\n",
      "               .map(lambda log: (log.retorno,log.codigo))\n",
      "               .filter((lambda s: s[1] == '404' ))\n",
      "               .cache())\n",
      "\n",
      "CountErr = totalerr404.map(lambda x: (x[0],1) )\n",
      "\n",
      "CountTotalErr = CountErr.reduceByKey(add)\n",
      "\n",
      "maiserr = CountTotalErr.takeOrdered(5, key=lambda (x,y): -y)\n",
      "\n",
      "print maiserr"
     ],
     "language": "python",
     "metadata": {},
     "outputs": [
      {
       "output_type": "stream",
       "stream": "stdout",
       "text": [
        "[(u'/pub/winvn/readme.txt', 2004), (u'/pub/winvn/release.txt', 1732), (u'/shuttle/missions/STS-69/mission-STS-69.html', 683), (u'/shuttle/missions/sts-68/ksc-upclose.gif', 428), (u'/history/apollo/a-001/a-001-patch-small.gif', 384)]\n"
       ]
      }
     ],
     "prompt_number": 157
    },
    {
     "cell_type": "code",
     "collapsed": false,
     "input": [
      "''' Quantidade de erros por dia '''\n",
      "diaerr = (logacesso\n",
      "          .map(lambda log:(log.codigo,log.datalog.day))\n",
      "          .filter(lambda x: x[0] == '404')\n",
      "          .cache())\n",
      "conterrdia = diaerr.map(lambda x: (x[1],1))\n",
      "sumerrdia = conterrdia.reduceByKey(add)\n",
      "\n",
      "print sumerrdia.collect()"
     ],
     "language": "python",
     "metadata": {},
     "outputs": [
      {
       "output_type": "stream",
       "stream": "stdout",
       "text": [
        "[(24, 747), (12, 657), (1, 558), (13, 741), (25, 872), (2, 289), (26, 697), (14, 699), (27, 705), (3, 777), (15, 579), (16, 515), (28, 503), (4, 703), (17, 674), (5, 729), (29, 420), (18, 718), (30, 567), (6, 1008), (31, 526), (19, 846), (7, 1098), (8, 680), (20, 740), (9, 627), (21, 639), (10, 709), (22, 470), (11, 733), (23, 578)]\n"
       ]
      }
     ],
     "prompt_number": 158
    },
    {
     "cell_type": "code",
     "collapsed": false,
     "input": [
      "''' Total de Bytes enviado'''\n",
      "totalpac = (logacesso\n",
      "            .map(lambda log:(log.pac)).cache())\n",
      "sumtotalpac = totalpac.sum()\n",
      "\n",
      "print sumtotalpac"
     ],
     "language": "python",
     "metadata": {},
     "outputs": [
      {
       "output_type": "stream",
       "stream": "stdout",
       "text": [
        "65522324918\n"
       ]
      }
     ],
     "prompt_number": 159
    },
    {
     "cell_type": "code",
     "collapsed": false,
     "input": [],
     "language": "python",
     "metadata": {},
     "outputs": [],
     "prompt_number": 134
    },
    {
     "cell_type": "code",
     "collapsed": false,
     "input": [],
     "language": "python",
     "metadata": {},
     "outputs": []
    }
   ],
   "metadata": {}
  }
 ]
}
